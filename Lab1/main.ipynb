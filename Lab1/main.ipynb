{
 "cells": [
  {
   "attachments": {},
   "cell_type": "markdown",
   "metadata": {},
   "source": [
    "# Part a"
   ]
  },
  {
   "cell_type": "code",
   "execution_count": 247,
   "metadata": {},
   "outputs": [],
   "source": [
    "import pandas as pd\n",
    "import numpy as np"
   ]
  },
  {
   "cell_type": "code",
   "execution_count": 248,
   "metadata": {},
   "outputs": [
    {
     "data": {
      "text/html": [
       "<div>\n",
       "<style scoped>\n",
       "    .dataframe tbody tr th:only-of-type {\n",
       "        vertical-align: middle;\n",
       "    }\n",
       "\n",
       "    .dataframe tbody tr th {\n",
       "        vertical-align: top;\n",
       "    }\n",
       "\n",
       "    .dataframe thead th {\n",
       "        text-align: right;\n",
       "    }\n",
       "</style>\n",
       "<table border=\"1\" class=\"dataframe\">\n",
       "  <thead>\n",
       "    <tr style=\"text-align: right;\">\n",
       "      <th></th>\n",
       "      <th>ObservationDate</th>\n",
       "      <th>Province/State</th>\n",
       "      <th>Country/Region</th>\n",
       "      <th>Last Update</th>\n",
       "      <th>Confirmed</th>\n",
       "      <th>Deaths</th>\n",
       "      <th>Recovered</th>\n",
       "    </tr>\n",
       "    <tr>\n",
       "      <th>SNo</th>\n",
       "      <th></th>\n",
       "      <th></th>\n",
       "      <th></th>\n",
       "      <th></th>\n",
       "      <th></th>\n",
       "      <th></th>\n",
       "      <th></th>\n",
       "    </tr>\n",
       "  </thead>\n",
       "  <tbody>\n",
       "    <tr>\n",
       "      <th>1</th>\n",
       "      <td>01/22/2020</td>\n",
       "      <td>Anhui</td>\n",
       "      <td>Mainland China</td>\n",
       "      <td>1/22/2020 17:00</td>\n",
       "      <td>1.0</td>\n",
       "      <td>0.0</td>\n",
       "      <td>0.0</td>\n",
       "    </tr>\n",
       "    <tr>\n",
       "      <th>2</th>\n",
       "      <td>01/22/2020</td>\n",
       "      <td>Beijing</td>\n",
       "      <td>Mainland China</td>\n",
       "      <td>1/22/2020 17:00</td>\n",
       "      <td>14.0</td>\n",
       "      <td>0.0</td>\n",
       "      <td>0.0</td>\n",
       "    </tr>\n",
       "    <tr>\n",
       "      <th>3</th>\n",
       "      <td>01/22/2020</td>\n",
       "      <td>Chongqing</td>\n",
       "      <td>Mainland China</td>\n",
       "      <td>1/22/2020 17:00</td>\n",
       "      <td>6.0</td>\n",
       "      <td>0.0</td>\n",
       "      <td>0.0</td>\n",
       "    </tr>\n",
       "    <tr>\n",
       "      <th>4</th>\n",
       "      <td>01/22/2020</td>\n",
       "      <td>Fujian</td>\n",
       "      <td>Mainland China</td>\n",
       "      <td>1/22/2020 17:00</td>\n",
       "      <td>1.0</td>\n",
       "      <td>0.0</td>\n",
       "      <td>0.0</td>\n",
       "    </tr>\n",
       "    <tr>\n",
       "      <th>5</th>\n",
       "      <td>01/22/2020</td>\n",
       "      <td>Gansu</td>\n",
       "      <td>Mainland China</td>\n",
       "      <td>1/22/2020 17:00</td>\n",
       "      <td>0.0</td>\n",
       "      <td>0.0</td>\n",
       "      <td>0.0</td>\n",
       "    </tr>\n",
       "    <tr>\n",
       "      <th>6</th>\n",
       "      <td>01/22/2020</td>\n",
       "      <td>Guangdong</td>\n",
       "      <td>Mainland China</td>\n",
       "      <td>1/22/2020 17:00</td>\n",
       "      <td>26.0</td>\n",
       "      <td>0.0</td>\n",
       "      <td>0.0</td>\n",
       "    </tr>\n",
       "    <tr>\n",
       "      <th>7</th>\n",
       "      <td>01/22/2020</td>\n",
       "      <td>Guangxi</td>\n",
       "      <td>Mainland China</td>\n",
       "      <td>1/22/2020 17:00</td>\n",
       "      <td>2.0</td>\n",
       "      <td>0.0</td>\n",
       "      <td>0.0</td>\n",
       "    </tr>\n",
       "    <tr>\n",
       "      <th>8</th>\n",
       "      <td>01/22/2020</td>\n",
       "      <td>Guizhou</td>\n",
       "      <td>Mainland China</td>\n",
       "      <td>1/22/2020 17:00</td>\n",
       "      <td>1.0</td>\n",
       "      <td>0.0</td>\n",
       "      <td>0.0</td>\n",
       "    </tr>\n",
       "    <tr>\n",
       "      <th>9</th>\n",
       "      <td>01/22/2020</td>\n",
       "      <td>Hainan</td>\n",
       "      <td>Mainland China</td>\n",
       "      <td>1/22/2020 17:00</td>\n",
       "      <td>4.0</td>\n",
       "      <td>0.0</td>\n",
       "      <td>0.0</td>\n",
       "    </tr>\n",
       "    <tr>\n",
       "      <th>10</th>\n",
       "      <td>01/22/2020</td>\n",
       "      <td>Hebei</td>\n",
       "      <td>Mainland China</td>\n",
       "      <td>1/22/2020 17:00</td>\n",
       "      <td>1.0</td>\n",
       "      <td>0.0</td>\n",
       "      <td>0.0</td>\n",
       "    </tr>\n",
       "  </tbody>\n",
       "</table>\n",
       "</div>"
      ],
      "text/plain": [
       "    ObservationDate Province/State  Country/Region      Last Update  \\\n",
       "SNo                                                                   \n",
       "1        01/22/2020          Anhui  Mainland China  1/22/2020 17:00   \n",
       "2        01/22/2020        Beijing  Mainland China  1/22/2020 17:00   \n",
       "3        01/22/2020      Chongqing  Mainland China  1/22/2020 17:00   \n",
       "4        01/22/2020         Fujian  Mainland China  1/22/2020 17:00   \n",
       "5        01/22/2020          Gansu  Mainland China  1/22/2020 17:00   \n",
       "6        01/22/2020      Guangdong  Mainland China  1/22/2020 17:00   \n",
       "7        01/22/2020        Guangxi  Mainland China  1/22/2020 17:00   \n",
       "8        01/22/2020        Guizhou  Mainland China  1/22/2020 17:00   \n",
       "9        01/22/2020         Hainan  Mainland China  1/22/2020 17:00   \n",
       "10       01/22/2020          Hebei  Mainland China  1/22/2020 17:00   \n",
       "\n",
       "     Confirmed  Deaths  Recovered  \n",
       "SNo                                \n",
       "1          1.0     0.0        0.0  \n",
       "2         14.0     0.0        0.0  \n",
       "3          6.0     0.0        0.0  \n",
       "4          1.0     0.0        0.0  \n",
       "5          0.0     0.0        0.0  \n",
       "6         26.0     0.0        0.0  \n",
       "7          2.0     0.0        0.0  \n",
       "8          1.0     0.0        0.0  \n",
       "9          4.0     0.0        0.0  \n",
       "10         1.0     0.0        0.0  "
      ]
     },
     "execution_count": 248,
     "metadata": {},
     "output_type": "execute_result"
    }
   ],
   "source": [
    "# Loading the csv file \n",
    "df = pd.read_csv('data/covid_19_data.csv', index_col=0)\n",
    "\n",
    "# showing the content of the first 10 records in the dataframe\n",
    "df.head(10)"
   ]
  },
  {
   "attachments": {},
   "cell_type": "markdown",
   "metadata": {},
   "source": [
    "Show number of Columns and Rows in the df"
   ]
  },
  {
   "cell_type": "code",
   "execution_count": 249,
   "metadata": {},
   "outputs": [
    {
     "data": {
      "text/plain": [
       "(306429, 7)"
      ]
     },
     "execution_count": 249,
     "metadata": {},
     "output_type": "execute_result"
    }
   ],
   "source": [
    "df.shape"
   ]
  },
  {
   "attachments": {},
   "cell_type": "markdown",
   "metadata": {},
   "source": [
    "Show Columns' name and number of columns"
   ]
  },
  {
   "cell_type": "code",
   "execution_count": 250,
   "metadata": {},
   "outputs": [
    {
     "name": "stdout",
     "output_type": "stream",
     "text": [
      "Coummns' name: ['ObservationDate', 'Province/State', 'Country/Region', 'Last Update', 'Confirmed', 'Deaths', 'Recovered']\n",
      "Number of columns in the dataframe: 7\n"
     ]
    }
   ],
   "source": [
    "print(f\"Coummns' name: {df.columns.tolist()}\")\n",
    "print(f\"Number of columns in the dataframe: {len(df. columns)}\")"
   ]
  },
  {
   "attachments": {},
   "cell_type": "markdown",
   "metadata": {},
   "source": [
    "Show number of records in the dataframe"
   ]
  },
  {
   "cell_type": "code",
   "execution_count": 251,
   "metadata": {},
   "outputs": [
    {
     "data": {
      "text/plain": [
       "306429"
      ]
     },
     "execution_count": 251,
     "metadata": {},
     "output_type": "execute_result"
    }
   ],
   "source": [
    "len(df.index)"
   ]
  },
  {
   "attachments": {},
   "cell_type": "markdown",
   "metadata": {},
   "source": [
    "Describe dataset "
   ]
  },
  {
   "cell_type": "code",
   "execution_count": 252,
   "metadata": {},
   "outputs": [
    {
     "data": {
      "text/html": [
       "<div>\n",
       "<style scoped>\n",
       "    .dataframe tbody tr th:only-of-type {\n",
       "        vertical-align: middle;\n",
       "    }\n",
       "\n",
       "    .dataframe tbody tr th {\n",
       "        vertical-align: top;\n",
       "    }\n",
       "\n",
       "    .dataframe thead th {\n",
       "        text-align: right;\n",
       "    }\n",
       "</style>\n",
       "<table border=\"1\" class=\"dataframe\">\n",
       "  <thead>\n",
       "    <tr style=\"text-align: right;\">\n",
       "      <th></th>\n",
       "      <th>Confirmed</th>\n",
       "      <th>Deaths</th>\n",
       "      <th>Recovered</th>\n",
       "    </tr>\n",
       "  </thead>\n",
       "  <tbody>\n",
       "    <tr>\n",
       "      <th>count</th>\n",
       "      <td>3.064290e+05</td>\n",
       "      <td>306429.000000</td>\n",
       "      <td>3.064290e+05</td>\n",
       "    </tr>\n",
       "    <tr>\n",
       "      <th>mean</th>\n",
       "      <td>8.567091e+04</td>\n",
       "      <td>2036.403268</td>\n",
       "      <td>5.042029e+04</td>\n",
       "    </tr>\n",
       "    <tr>\n",
       "      <th>std</th>\n",
       "      <td>2.775516e+05</td>\n",
       "      <td>6410.938048</td>\n",
       "      <td>2.015124e+05</td>\n",
       "    </tr>\n",
       "    <tr>\n",
       "      <th>min</th>\n",
       "      <td>-3.028440e+05</td>\n",
       "      <td>-178.000000</td>\n",
       "      <td>-8.544050e+05</td>\n",
       "    </tr>\n",
       "    <tr>\n",
       "      <th>25%</th>\n",
       "      <td>1.042000e+03</td>\n",
       "      <td>13.000000</td>\n",
       "      <td>1.100000e+01</td>\n",
       "    </tr>\n",
       "    <tr>\n",
       "      <th>50%</th>\n",
       "      <td>1.037500e+04</td>\n",
       "      <td>192.000000</td>\n",
       "      <td>1.751000e+03</td>\n",
       "    </tr>\n",
       "    <tr>\n",
       "      <th>75%</th>\n",
       "      <td>5.075200e+04</td>\n",
       "      <td>1322.000000</td>\n",
       "      <td>2.027000e+04</td>\n",
       "    </tr>\n",
       "    <tr>\n",
       "      <th>max</th>\n",
       "      <td>5.863138e+06</td>\n",
       "      <td>112385.000000</td>\n",
       "      <td>6.399531e+06</td>\n",
       "    </tr>\n",
       "  </tbody>\n",
       "</table>\n",
       "</div>"
      ],
      "text/plain": [
       "          Confirmed         Deaths     Recovered\n",
       "count  3.064290e+05  306429.000000  3.064290e+05\n",
       "mean   8.567091e+04    2036.403268  5.042029e+04\n",
       "std    2.775516e+05    6410.938048  2.015124e+05\n",
       "min   -3.028440e+05    -178.000000 -8.544050e+05\n",
       "25%    1.042000e+03      13.000000  1.100000e+01\n",
       "50%    1.037500e+04     192.000000  1.751000e+03\n",
       "75%    5.075200e+04    1322.000000  2.027000e+04\n",
       "max    5.863138e+06  112385.000000  6.399531e+06"
      ]
     },
     "execution_count": 252,
     "metadata": {},
     "output_type": "execute_result"
    }
   ],
   "source": [
    "df.describe()"
   ]
  },
  {
   "attachments": {},
   "cell_type": "markdown",
   "metadata": {},
   "source": [
    "Assign Corona countries"
   ]
  },
  {
   "cell_type": "code",
   "execution_count": 253,
   "metadata": {},
   "outputs": [],
   "source": [
    "countryCorona = df[\"Country/Region\"]"
   ]
  },
  {
   "cell_type": "code",
   "execution_count": 254,
   "metadata": {},
   "outputs": [
    {
     "data": {
      "text/plain": [
       "array(['Mainland China', 'Hong Kong', 'Macau', 'Taiwan', 'US', 'Japan',\n",
       "       'Thailand', 'South Korea', 'China', 'Kiribati', 'Singapore',\n",
       "       'Philippines', 'Malaysia', 'Vietnam', 'Australia', 'Mexico',\n",
       "       'Brazil', 'Colombia', 'France', 'Nepal', 'Canada', 'Cambodia',\n",
       "       'Sri Lanka', 'Ivory Coast', 'Germany', 'Finland',\n",
       "       'United Arab Emirates', 'India', 'Italy', 'UK', 'Russia', 'Sweden',\n",
       "       'Spain', 'Belgium', 'Others', 'Egypt', 'Iran', 'Israel', 'Lebanon',\n",
       "       'Iraq', 'Oman', 'Afghanistan', 'Bahrain', 'Kuwait', 'Austria',\n",
       "       'Algeria', 'Croatia', 'Switzerland', 'Pakistan', 'Georgia',\n",
       "       'Greece', 'North Macedonia', 'Norway', 'Romania', 'Denmark',\n",
       "       'Estonia', 'Netherlands', 'San Marino', ' Azerbaijan', 'Belarus',\n",
       "       'Iceland', 'Lithuania', 'New Zealand', 'Nigeria', 'North Ireland',\n",
       "       'Ireland', 'Luxembourg', 'Monaco', 'Qatar', 'Ecuador',\n",
       "       'Azerbaijan', 'Czech Republic', 'Armenia', 'Dominican Republic',\n",
       "       'Indonesia', 'Portugal', 'Andorra', 'Latvia', 'Morocco',\n",
       "       'Saudi Arabia', 'Senegal', 'Argentina', 'Chile', 'Jordan',\n",
       "       'Ukraine', 'Saint Barthelemy', 'Hungary', 'Faroe Islands',\n",
       "       'Gibraltar', 'Liechtenstein', 'Poland', 'Tunisia', 'Palestine',\n",
       "       'Bosnia and Herzegovina', 'Slovenia', 'South Africa', 'Bhutan',\n",
       "       'Cameroon', 'Costa Rica', 'Peru', 'Serbia', 'Slovakia', 'Togo',\n",
       "       'Vatican City', 'French Guiana', 'Malta', 'Martinique',\n",
       "       'Republic of Ireland', 'Bulgaria', 'Maldives', 'Bangladesh',\n",
       "       'Moldova', 'Paraguay', 'Albania', 'Cyprus', 'St. Martin', 'Brunei',\n",
       "       'occupied Palestinian territory', \"('St. Martin',)\",\n",
       "       'Burkina Faso', 'Channel Islands', 'Holy See', 'Mongolia',\n",
       "       'Panama', 'Bolivia', 'Honduras', 'Congo (Kinshasa)', 'Jamaica',\n",
       "       'Reunion', 'Turkey', 'Cuba', 'Guyana', 'Kazakhstan',\n",
       "       'Cayman Islands', 'Guadeloupe', 'Ethiopia', 'Sudan', 'Guinea',\n",
       "       'Antigua and Barbuda', 'Aruba', 'Kenya', 'Uruguay', 'Ghana',\n",
       "       'Jersey', 'Namibia', 'Seychelles', 'Trinidad and Tobago',\n",
       "       'Venezuela', 'Curacao', 'Eswatini', 'Gabon', 'Guatemala',\n",
       "       'Guernsey', 'Mauritania', 'Rwanda', 'Saint Lucia',\n",
       "       'Saint Vincent and the Grenadines', 'Suriname', 'Kosovo',\n",
       "       'Central African Republic', 'Congo (Brazzaville)',\n",
       "       'Equatorial Guinea', 'Uzbekistan', 'Guam', 'Puerto Rico', 'Benin',\n",
       "       'Greenland', 'Liberia', 'Mayotte', 'Republic of the Congo',\n",
       "       'Somalia', 'Tanzania', 'The Bahamas', 'Barbados', 'Montenegro',\n",
       "       'The Gambia', 'Kyrgyzstan', 'Mauritius', 'Zambia', 'Djibouti',\n",
       "       'Gambia, The', 'Bahamas, The', 'Chad', 'El Salvador', 'Fiji',\n",
       "       'Nicaragua', 'Madagascar', 'Haiti', 'Angola', 'Cabo Verde',\n",
       "       'Niger', 'Papua New Guinea', 'Zimbabwe', 'Cape Verde',\n",
       "       'East Timor', 'Eritrea', 'Uganda', 'Bahamas', 'Dominica', 'Gambia',\n",
       "       'Grenada', 'Mozambique', 'Samoa', 'Syria', 'Timor-Leste', 'Belize',\n",
       "       'Laos', 'Libya', 'Diamond Princess', 'Guinea-Bissau', 'Mali',\n",
       "       'Saint Kitts and Nevis', 'West Bank and Gaza', 'Burma',\n",
       "       'MS Zaandam', 'Botswana', 'Burundi', 'Sierra Leone', 'Malawi',\n",
       "       'South Sudan', 'Sao Tome and Principe', 'Yemen', 'Comoros',\n",
       "       'Tajikistan', 'Lesotho', 'Solomon Islands', 'Marshall Islands',\n",
       "       'Vanuatu', 'Micronesia'], dtype=object)"
      ]
     },
     "execution_count": 254,
     "metadata": {},
     "output_type": "execute_result"
    }
   ],
   "source": [
    "df['Country/Region'].unique()"
   ]
  },
  {
   "attachments": {},
   "cell_type": "markdown",
   "metadata": {},
   "source": [
    "Listing the most confirmed cases"
   ]
  },
  {
   "cell_type": "code",
   "execution_count": 255,
   "metadata": {},
   "outputs": [
    {
     "name": "stdout",
     "output_type": "stream",
     "text": [
      "5863138.0\n"
     ]
    }
   ],
   "source": [
    "maxConfirmedCases = max(df[\"Confirmed\"])\n",
    "print(maxConfirmedCases)"
   ]
  },
  {
   "attachments": {},
   "cell_type": "markdown",
   "metadata": {},
   "source": [
    "Show data about Covid-19 in China Mainland"
   ]
  },
  {
   "cell_type": "code",
   "execution_count": 256,
   "metadata": {},
   "outputs": [
    {
     "name": "stdout",
     "output_type": "stream",
     "text": [
      "       ObservationDate Province/State  Country/Region          Last Update  \\\n",
      "SNo                                                                          \n",
      "1           01/22/2020          Anhui  Mainland China      1/22/2020 17:00   \n",
      "2           01/22/2020        Beijing  Mainland China      1/22/2020 17:00   \n",
      "3           01/22/2020      Chongqing  Mainland China      1/22/2020 17:00   \n",
      "4           01/22/2020         Fujian  Mainland China      1/22/2020 17:00   \n",
      "5           01/22/2020          Gansu  Mainland China      1/22/2020 17:00   \n",
      "...                ...            ...             ...                  ...   \n",
      "306341      05/29/2021          Tibet  Mainland China  2021-05-30 04:20:55   \n",
      "306369      05/29/2021        Unknown  Mainland China  2021-05-30 04:20:55   \n",
      "306413      05/29/2021       Xinjiang  Mainland China  2021-05-30 04:20:55   \n",
      "306421      05/29/2021         Yunnan  Mainland China  2021-05-30 04:20:55   \n",
      "306427      05/29/2021       Zhejiang  Mainland China  2021-05-30 04:20:55   \n",
      "\n",
      "        Confirmed  Deaths  Recovered  \n",
      "SNo                                   \n",
      "1             1.0     0.0        0.0  \n",
      "2            14.0     0.0        0.0  \n",
      "3             6.0     0.0        0.0  \n",
      "4             1.0     0.0        0.0  \n",
      "5             0.0     0.0        0.0  \n",
      "...           ...     ...        ...  \n",
      "306341        1.0     0.0        1.0  \n",
      "306369        0.0     0.0       10.0  \n",
      "306413      980.0     3.0      977.0  \n",
      "306421      352.0     2.0      331.0  \n",
      "306427     1364.0     1.0     1324.0  \n",
      "\n",
      "[15758 rows x 7 columns]\n"
     ]
    }
   ],
   "source": [
    "coronaChina = df[(df['Country/Region'] == \"Mainland China\")]\n",
    "print(coronaChina)"
   ]
  },
  {
   "attachments": {},
   "cell_type": "markdown",
   "metadata": {},
   "source": [
    "Find the country having the most cases"
   ]
  },
  {
   "cell_type": "code",
   "execution_count": 257,
   "metadata": {},
   "outputs": [
    {
     "name": "stdout",
     "output_type": "stream",
     "text": [
      "The country has the most confirmed cases is: France\n"
     ]
    }
   ],
   "source": [
    "maxCountryConfirmedCorona = df[df[\"Confirmed\"]==maxConfirmedCases]['Country/Region'].values[0]\n",
    "print(f\"The country has the most confirmed cases is: {maxCountryConfirmedCorona}\")"
   ]
  },
  {
   "attachments": {},
   "cell_type": "markdown",
   "metadata": {},
   "source": [
    "Find the Province or State having the most cases"
   ]
  },
  {
   "cell_type": "code",
   "execution_count": 258,
   "metadata": {},
   "outputs": [
    {
     "name": "stdout",
     "output_type": "stream",
     "text": [
      "The state has the most confirmed cases is: nan\n"
     ]
    }
   ],
   "source": [
    "maxStateConfirmedCorona = df[df[\"Confirmed\"]==maxConfirmedCases]['Province/State'].values[0]\n",
    "print(f\"The state has the most confirmed cases is: {maxStateConfirmedCorona}\")"
   ]
  },
  {
   "attachments": {},
   "cell_type": "markdown",
   "metadata": {},
   "source": [
    "Format datetime type"
   ]
  },
  {
   "cell_type": "code",
   "execution_count": 259,
   "metadata": {},
   "outputs": [],
   "source": [
    "df[\"ObservationDate\"] = pd.to_datetime(df[\"ObservationDate\"])\n",
    "df[\"Last Update\"] = pd.to_datetime(df[\"Last Update\"])"
   ]
  },
  {
   "cell_type": "code",
   "execution_count": 260,
   "metadata": {},
   "outputs": [
    {
     "name": "stdout",
     "output_type": "stream",
     "text": [
      "<class 'pandas.core.frame.DataFrame'>\n",
      "Int64Index: 306429 entries, 1 to 306429\n",
      "Data columns (total 7 columns):\n",
      " #   Column           Non-Null Count   Dtype         \n",
      "---  ------           --------------   -----         \n",
      " 0   ObservationDate  306429 non-null  datetime64[ns]\n",
      " 1   Province/State   228329 non-null  object        \n",
      " 2   Country/Region   306429 non-null  object        \n",
      " 3   Last Update      306429 non-null  datetime64[ns]\n",
      " 4   Confirmed        306429 non-null  float64       \n",
      " 5   Deaths           306429 non-null  float64       \n",
      " 6   Recovered        306429 non-null  float64       \n",
      "dtypes: datetime64[ns](2), float64(3), object(2)\n",
      "memory usage: 18.7+ MB\n"
     ]
    }
   ],
   "source": [
    "df.info()"
   ]
  },
  {
   "attachments": {},
   "cell_type": "markdown",
   "metadata": {},
   "source": [
    "Get record with ObservationDate from 2020-01-01 to 2020-01-31"
   ]
  },
  {
   "cell_type": "code",
   "execution_count": 261,
   "metadata": {},
   "outputs": [
    {
     "data": {
      "text/html": [
       "<div>\n",
       "<style scoped>\n",
       "    .dataframe tbody tr th:only-of-type {\n",
       "        vertical-align: middle;\n",
       "    }\n",
       "\n",
       "    .dataframe tbody tr th {\n",
       "        vertical-align: top;\n",
       "    }\n",
       "\n",
       "    .dataframe thead th {\n",
       "        text-align: right;\n",
       "    }\n",
       "</style>\n",
       "<table border=\"1\" class=\"dataframe\">\n",
       "  <thead>\n",
       "    <tr style=\"text-align: right;\">\n",
       "      <th></th>\n",
       "      <th>ObservationDate</th>\n",
       "      <th>Province/State</th>\n",
       "      <th>Country/Region</th>\n",
       "      <th>Last Update</th>\n",
       "      <th>Confirmed</th>\n",
       "      <th>Deaths</th>\n",
       "      <th>Recovered</th>\n",
       "    </tr>\n",
       "    <tr>\n",
       "      <th>SNo</th>\n",
       "      <th></th>\n",
       "      <th></th>\n",
       "      <th></th>\n",
       "      <th></th>\n",
       "      <th></th>\n",
       "      <th></th>\n",
       "      <th></th>\n",
       "    </tr>\n",
       "  </thead>\n",
       "  <tbody>\n",
       "    <tr>\n",
       "      <th>1</th>\n",
       "      <td>2020-01-22</td>\n",
       "      <td>Anhui</td>\n",
       "      <td>Mainland China</td>\n",
       "      <td>2020-01-22 17:00:00</td>\n",
       "      <td>1.0</td>\n",
       "      <td>0.0</td>\n",
       "      <td>0.0</td>\n",
       "    </tr>\n",
       "    <tr>\n",
       "      <th>2</th>\n",
       "      <td>2020-01-22</td>\n",
       "      <td>Beijing</td>\n",
       "      <td>Mainland China</td>\n",
       "      <td>2020-01-22 17:00:00</td>\n",
       "      <td>14.0</td>\n",
       "      <td>0.0</td>\n",
       "      <td>0.0</td>\n",
       "    </tr>\n",
       "    <tr>\n",
       "      <th>3</th>\n",
       "      <td>2020-01-22</td>\n",
       "      <td>Chongqing</td>\n",
       "      <td>Mainland China</td>\n",
       "      <td>2020-01-22 17:00:00</td>\n",
       "      <td>6.0</td>\n",
       "      <td>0.0</td>\n",
       "      <td>0.0</td>\n",
       "    </tr>\n",
       "    <tr>\n",
       "      <th>4</th>\n",
       "      <td>2020-01-22</td>\n",
       "      <td>Fujian</td>\n",
       "      <td>Mainland China</td>\n",
       "      <td>2020-01-22 17:00:00</td>\n",
       "      <td>1.0</td>\n",
       "      <td>0.0</td>\n",
       "      <td>0.0</td>\n",
       "    </tr>\n",
       "    <tr>\n",
       "      <th>5</th>\n",
       "      <td>2020-01-22</td>\n",
       "      <td>Gansu</td>\n",
       "      <td>Mainland China</td>\n",
       "      <td>2020-01-22 17:00:00</td>\n",
       "      <td>0.0</td>\n",
       "      <td>0.0</td>\n",
       "      <td>0.0</td>\n",
       "    </tr>\n",
       "    <tr>\n",
       "      <th>...</th>\n",
       "      <td>...</td>\n",
       "      <td>...</td>\n",
       "      <td>...</td>\n",
       "      <td>...</td>\n",
       "      <td>...</td>\n",
       "      <td>...</td>\n",
       "      <td>...</td>\n",
       "    </tr>\n",
       "    <tr>\n",
       "      <th>509</th>\n",
       "      <td>2020-01-31</td>\n",
       "      <td>NaN</td>\n",
       "      <td>Philippines</td>\n",
       "      <td>2020-01-31 23:59:00</td>\n",
       "      <td>1.0</td>\n",
       "      <td>0.0</td>\n",
       "      <td>0.0</td>\n",
       "    </tr>\n",
       "    <tr>\n",
       "      <th>510</th>\n",
       "      <td>2020-01-31</td>\n",
       "      <td>NaN</td>\n",
       "      <td>India</td>\n",
       "      <td>2020-01-31 23:59:00</td>\n",
       "      <td>1.0</td>\n",
       "      <td>0.0</td>\n",
       "      <td>0.0</td>\n",
       "    </tr>\n",
       "    <tr>\n",
       "      <th>511</th>\n",
       "      <td>2020-01-31</td>\n",
       "      <td>NaN</td>\n",
       "      <td>Sweden</td>\n",
       "      <td>2020-01-31 23:59:00</td>\n",
       "      <td>1.0</td>\n",
       "      <td>0.0</td>\n",
       "      <td>0.0</td>\n",
       "    </tr>\n",
       "    <tr>\n",
       "      <th>512</th>\n",
       "      <td>2020-01-31</td>\n",
       "      <td>Unknown</td>\n",
       "      <td>China</td>\n",
       "      <td>2020-01-31 23:59:00</td>\n",
       "      <td>0.0</td>\n",
       "      <td>0.0</td>\n",
       "      <td>0.0</td>\n",
       "    </tr>\n",
       "    <tr>\n",
       "      <th>513</th>\n",
       "      <td>2020-01-31</td>\n",
       "      <td>NaN</td>\n",
       "      <td>Kiribati</td>\n",
       "      <td>2020-01-31 23:59:00</td>\n",
       "      <td>0.0</td>\n",
       "      <td>0.0</td>\n",
       "      <td>0.0</td>\n",
       "    </tr>\n",
       "  </tbody>\n",
       "</table>\n",
       "<p>513 rows × 7 columns</p>\n",
       "</div>"
      ],
      "text/plain": [
       "    ObservationDate Province/State  Country/Region         Last Update  \\\n",
       "SNo                                                                      \n",
       "1        2020-01-22          Anhui  Mainland China 2020-01-22 17:00:00   \n",
       "2        2020-01-22        Beijing  Mainland China 2020-01-22 17:00:00   \n",
       "3        2020-01-22      Chongqing  Mainland China 2020-01-22 17:00:00   \n",
       "4        2020-01-22         Fujian  Mainland China 2020-01-22 17:00:00   \n",
       "5        2020-01-22          Gansu  Mainland China 2020-01-22 17:00:00   \n",
       "..              ...            ...             ...                 ...   \n",
       "509      2020-01-31            NaN     Philippines 2020-01-31 23:59:00   \n",
       "510      2020-01-31            NaN           India 2020-01-31 23:59:00   \n",
       "511      2020-01-31            NaN          Sweden 2020-01-31 23:59:00   \n",
       "512      2020-01-31        Unknown           China 2020-01-31 23:59:00   \n",
       "513      2020-01-31            NaN        Kiribati 2020-01-31 23:59:00   \n",
       "\n",
       "     Confirmed  Deaths  Recovered  \n",
       "SNo                                \n",
       "1          1.0     0.0        0.0  \n",
       "2         14.0     0.0        0.0  \n",
       "3          6.0     0.0        0.0  \n",
       "4          1.0     0.0        0.0  \n",
       "5          0.0     0.0        0.0  \n",
       "..         ...     ...        ...  \n",
       "509        1.0     0.0        0.0  \n",
       "510        1.0     0.0        0.0  \n",
       "511        1.0     0.0        0.0  \n",
       "512        0.0     0.0        0.0  \n",
       "513        0.0     0.0        0.0  \n",
       "\n",
       "[513 rows x 7 columns]"
      ]
     },
     "execution_count": 261,
     "metadata": {},
     "output_type": "execute_result"
    }
   ],
   "source": [
    "df[(df[\"ObservationDate\"] >= \"2020-01-01\") & (df[\"ObservationDate\"] <= \"2020-01-31\")]"
   ]
  },
  {
   "attachments": {},
   "cell_type": "markdown",
   "metadata": {},
   "source": [
    "# Part b"
   ]
  },
  {
   "attachments": {},
   "cell_type": "markdown",
   "metadata": {},
   "source": [
    "Find data about cases in Vietnam"
   ]
  },
  {
   "cell_type": "code",
   "execution_count": 262,
   "metadata": {},
   "outputs": [
    {
     "name": "stdout",
     "output_type": "stream",
     "text": [
      "       ObservationDate Province/State Country/Region         Last Update  \\\n",
      "SNo                                                                        \n",
      "82          2020-01-23            NaN        Vietnam 2020-01-23 17:00:00   \n",
      "128         2020-01-24            NaN        Vietnam 2020-01-24 17:00:00   \n",
      "171         2020-01-25            NaN        Vietnam 2020-01-25 17:00:00   \n",
      "219         2020-01-26            NaN        Vietnam 2020-01-26 16:00:00   \n",
      "268         2020-01-27            NaN        Vietnam 2020-01-27 23:59:00   \n",
      "...                ...            ...            ...                 ...   \n",
      "302772      2021-05-25            NaN        Vietnam 2021-05-26 04:20:35   \n",
      "303537      2021-05-26            NaN        Vietnam 2021-05-27 04:20:59   \n",
      "304302      2021-05-27            NaN        Vietnam 2021-05-28 04:20:36   \n",
      "305067      2021-05-28            NaN        Vietnam 2021-05-29 04:20:41   \n",
      "305832      2021-05-29            NaN        Vietnam 2021-05-30 04:20:55   \n",
      "\n",
      "        Confirmed  Deaths  Recovered  \n",
      "SNo                                   \n",
      "82            2.0     0.0        0.0  \n",
      "128           2.0     0.0        0.0  \n",
      "171           2.0     0.0        0.0  \n",
      "219           2.0     0.0        0.0  \n",
      "268           2.0     0.0        0.0  \n",
      "...           ...     ...        ...  \n",
      "302772     5931.0    44.0     2794.0  \n",
      "303537     6086.0    45.0     2853.0  \n",
      "304302     6356.0    46.0     2853.0  \n",
      "305067     6396.0    47.0     2896.0  \n",
      "305832     6908.0    47.0     2896.0  \n",
      "\n",
      "[493 rows x 7 columns]\n"
     ]
    }
   ],
   "source": [
    "coronaVietnam = df[(df['Country/Region'] == \"Vietnam\")]\n",
    "print(coronaVietnam)"
   ]
  },
  {
   "attachments": {},
   "cell_type": "markdown",
   "metadata": {},
   "source": [
    "Show the most cases in Vietnam"
   ]
  },
  {
   "cell_type": "code",
   "execution_count": 263,
   "metadata": {},
   "outputs": [
    {
     "name": "stdout",
     "output_type": "stream",
     "text": [
      "The most cases in Vietnam are: 6908.0\n"
     ]
    }
   ],
   "source": [
    "maxVietnamConfirmedCases = max(coronaVietnam[\"Confirmed\"])\n",
    "print(f\"The most cases in Vietnam are: {maxVietnamConfirmedCases}\")"
   ]
  },
  {
   "attachments": {},
   "cell_type": "markdown",
   "metadata": {},
   "source": [
    "Show the data about the number of cases in Vietnam in Feb 2021"
   ]
  },
  {
   "cell_type": "code",
   "execution_count": 264,
   "metadata": {},
   "outputs": [
    {
     "name": "stdout",
     "output_type": "stream",
     "text": [
      "       ObservationDate Province/State Country/Region         Last Update  \\\n",
      "SNo                                                                        \n",
      "216327      2021-02-01            NaN        Vietnam 2021-04-02 15:13:53   \n",
      "217092      2021-02-02            NaN        Vietnam 2021-04-02 15:13:53   \n",
      "217857      2021-02-03            NaN        Vietnam 2021-04-02 15:13:53   \n",
      "218622      2021-02-04            NaN        Vietnam 2021-04-02 15:13:53   \n",
      "219387      2021-02-05            NaN        Vietnam 2021-04-02 15:13:53   \n",
      "220152      2021-02-06            NaN        Vietnam 2021-04-02 15:13:53   \n",
      "220917      2021-02-07            NaN        Vietnam 2021-04-02 15:13:53   \n",
      "221682      2021-02-08            NaN        Vietnam 2021-04-02 15:13:53   \n",
      "222447      2021-02-09            NaN        Vietnam 2021-04-02 15:13:53   \n",
      "223212      2021-02-10            NaN        Vietnam 2021-04-02 15:13:53   \n",
      "223977      2021-02-11            NaN        Vietnam 2021-04-02 15:13:53   \n",
      "224742      2021-02-12            NaN        Vietnam 2021-04-02 15:13:53   \n",
      "225507      2021-02-13            NaN        Vietnam 2021-04-02 15:13:53   \n",
      "226272      2021-02-14            NaN        Vietnam 2021-04-02 15:13:53   \n",
      "227037      2021-02-15            NaN        Vietnam 2021-04-02 15:13:53   \n",
      "227802      2021-02-16            NaN        Vietnam 2021-04-02 15:13:53   \n",
      "228567      2021-02-17            NaN        Vietnam 2021-04-02 15:13:53   \n",
      "229332      2021-02-18            NaN        Vietnam 2021-04-02 15:13:53   \n",
      "230097      2021-02-19            NaN        Vietnam 2021-04-02 15:13:53   \n",
      "230862      2021-02-20            NaN        Vietnam 2021-04-02 15:13:53   \n",
      "231627      2021-02-21            NaN        Vietnam 2021-04-02 15:13:53   \n",
      "232392      2021-02-22            NaN        Vietnam 2021-04-02 15:13:53   \n",
      "233157      2021-02-23            NaN        Vietnam 2021-04-02 15:13:53   \n",
      "233922      2021-02-24            NaN        Vietnam 2021-04-02 15:13:53   \n",
      "234687      2021-02-25            NaN        Vietnam 2021-04-02 15:13:53   \n",
      "235452      2021-02-26            NaN        Vietnam 2021-04-02 15:13:53   \n",
      "236217      2021-02-27            NaN        Vietnam 2021-04-02 15:13:53   \n",
      "236982      2021-02-28            NaN        Vietnam 2021-04-02 15:13:53   \n",
      "\n",
      "        Confirmed  Deaths  Recovered  \n",
      "SNo                                   \n",
      "216327     1850.0    35.0     1460.0  \n",
      "217092     1882.0    35.0     1460.0  \n",
      "217857     1948.0    35.0     1461.0  \n",
      "218622     1957.0    35.0     1465.0  \n",
      "219387     1976.0    35.0     1465.0  \n",
      "220152     1985.0    35.0     1468.0  \n",
      "220917     2001.0    35.0     1472.0  \n",
      "221682     2050.0    35.0     1472.0  \n",
      "222447     2064.0    35.0     1472.0  \n",
      "223212     2091.0    35.0     1480.0  \n",
      "223977     2140.0    35.0     1528.0  \n",
      "224742     2142.0    35.0     1529.0  \n",
      "225507     2195.0    35.0     1529.0  \n",
      "226272     2228.0    35.0     1532.0  \n",
      "227037     2269.0    35.0     1541.0  \n",
      "227802     2311.0    35.0     1573.0  \n",
      "228567     2329.0    35.0     1574.0  \n",
      "229332     2347.0    35.0     1605.0  \n",
      "230097     2362.0    35.0     1627.0  \n",
      "230862     2368.0    35.0     1627.0  \n",
      "231627     2383.0    35.0     1702.0  \n",
      "232392     2392.0    35.0     1717.0  \n",
      "233157     2403.0    35.0     1760.0  \n",
      "233922     2412.0    35.0     1804.0  \n",
      "234687     2421.0    35.0     1804.0  \n",
      "235452     2426.0    35.0     1839.0  \n",
      "236217     2432.0    35.0     1844.0  \n",
      "236982     2448.0    35.0     1876.0  \n"
     ]
    }
   ],
   "source": [
    "cases_of_Vietnam_in_Feb2021 = coronaVietnam[(coronaVietnam[\"ObservationDate\"].dt.year == 2021) \n",
    "                                            & (coronaVietnam[\"ObservationDate\"].dt.month == 2)]\n",
    "print(cases_of_Vietnam_in_Feb2021)"
   ]
  },
  {
   "attachments": {},
   "cell_type": "markdown",
   "metadata": {},
   "source": [
    "Show the data about the most cases in Vietnam between January and Feb 2021"
   ]
  },
  {
   "cell_type": "code",
   "execution_count": 277,
   "metadata": {},
   "outputs": [
    {
     "name": "stdout",
     "output_type": "stream",
     "text": [
      "The most cases in Vietnam between January and February in 2021 were: 2448.0\n"
     ]
    }
   ],
   "source": [
    "max_cases_of_Vietnam_in_JanFeb2021 = coronaVietnam[(coronaVietnam[\"ObservationDate\"] >= \"1-1-2021\") \n",
    "                                                   & (coronaVietnam[\"ObservationDate\"] <= \"2-28-2021\")]\n",
    "print(\n",
    "    f\"The most cases in Vietnam between January and February in 2021 were: {max(max_cases_of_Vietnam_in_JanFeb2021['Confirmed'])}\"\n",
    "    )\n",
    "# max_cases_of_Vietnam_in_JanFeb2021[max_cases_of_Vietnam_in_JanFeb2021[\"Confirmed\"] == max(max_cases_of_Vietnam_in_JanFeb2021[\"Confirmed\"])]"
   ]
  },
  {
   "attachments": {},
   "cell_type": "markdown",
   "metadata": {},
   "source": [
    "Show the data about the most cases in Indonesia between January and Feb 2021"
   ]
  },
  {
   "cell_type": "code",
   "execution_count": 276,
   "metadata": {},
   "outputs": [
    {
     "name": "stdout",
     "output_type": "stream",
     "text": [
      "The most cases in Indonesia between January and February in 2021 were: 1334634.0\n"
     ]
    }
   ],
   "source": [
    "corona_inJanFeb_atIndonesia = df[\n",
    "    (df[\"Country/Region\"] == \"Indonesia\")\n",
    "    & (df[\"ObservationDate\"] >= \"1-1-2021\")\n",
    "    & (df[\"ObservationDate\"] <= \"2-28-2021\")\n",
    "]\n",
    "max_cases_of_Indo_in_JanFeb2021 = max(corona_inJanFeb_atIndonesia[\"Confirmed\"])\n",
    "print(\n",
    "    f\"The most cases in Indonesia between January and February in 2021 were: {max_cases_of_Indo_in_JanFeb2021}\"\n",
    ")\n",
    "# corona_inJanFeb_atIndonesia[corona_inJanFeb_atIndonesia[\"Confirmed\"] == max_cases_of_Indo_in_JanFeb2021]"
   ]
  },
  {
   "attachments": {},
   "cell_type": "markdown",
   "metadata": {},
   "source": [
    "Show the data about the most cases in Philippines between January and Feb 2021"
   ]
  },
  {
   "cell_type": "code",
   "execution_count": 267,
   "metadata": {},
   "outputs": [
    {
     "name": "stdout",
     "output_type": "stream",
     "text": [
      "The most cases in Phillipines between January and February in 2021 were: 576352.0\n"
     ]
    }
   ],
   "source": [
    "corona_inJanFeb_atPhilipines = df[\n",
    "    (df[\"Country/Region\"] == \"Philippines\")\n",
    "    & (df[\"ObservationDate\"] >= \"1-1-2021\")\n",
    "    & (df[\"ObservationDate\"] <= \"2-28-2021\")\n",
    "]\n",
    "max_cases_of_Philip_in_JanFeb2021 = max(corona_inJanFeb_atPhilipines[\"Confirmed\"])\n",
    "print(\n",
    "    f\"The most cases in Phillipines between January and February in 2021 were: {max_cases_of_Philip_in_JanFeb2021}\"\n",
    ")\n"
   ]
  },
  {
   "attachments": {},
   "cell_type": "markdown",
   "metadata": {},
   "source": [
    "Show the data about cases in China between Feb 1st 2021 to Feb 15th 2021"
   ]
  },
  {
   "cell_type": "code",
   "execution_count": 268,
   "metadata": {},
   "outputs": [
    {
     "data": {
      "text/html": [
       "<div>\n",
       "<style scoped>\n",
       "    .dataframe tbody tr th:only-of-type {\n",
       "        vertical-align: middle;\n",
       "    }\n",
       "\n",
       "    .dataframe tbody tr th {\n",
       "        vertical-align: top;\n",
       "    }\n",
       "\n",
       "    .dataframe thead th {\n",
       "        text-align: right;\n",
       "    }\n",
       "</style>\n",
       "<table border=\"1\" class=\"dataframe\">\n",
       "  <thead>\n",
       "    <tr style=\"text-align: right;\">\n",
       "      <th></th>\n",
       "      <th>ObservationDate</th>\n",
       "      <th>Province/State</th>\n",
       "      <th>Country/Region</th>\n",
       "      <th>Last Update</th>\n",
       "      <th>Confirmed</th>\n",
       "      <th>Deaths</th>\n",
       "      <th>Recovered</th>\n",
       "    </tr>\n",
       "    <tr>\n",
       "      <th>SNo</th>\n",
       "      <th></th>\n",
       "      <th></th>\n",
       "      <th></th>\n",
       "      <th></th>\n",
       "      <th></th>\n",
       "      <th></th>\n",
       "      <th></th>\n",
       "    </tr>\n",
       "  </thead>\n",
       "  <tbody>\n",
       "    <tr>\n",
       "      <th>1</th>\n",
       "      <td>2020-01-22</td>\n",
       "      <td>Anhui</td>\n",
       "      <td>Mainland China</td>\n",
       "      <td>2020-01-22 17:00:00</td>\n",
       "      <td>1.0</td>\n",
       "      <td>0.0</td>\n",
       "      <td>0.0</td>\n",
       "    </tr>\n",
       "    <tr>\n",
       "      <th>2</th>\n",
       "      <td>2020-01-22</td>\n",
       "      <td>Beijing</td>\n",
       "      <td>Mainland China</td>\n",
       "      <td>2020-01-22 17:00:00</td>\n",
       "      <td>14.0</td>\n",
       "      <td>0.0</td>\n",
       "      <td>0.0</td>\n",
       "    </tr>\n",
       "    <tr>\n",
       "      <th>3</th>\n",
       "      <td>2020-01-22</td>\n",
       "      <td>Chongqing</td>\n",
       "      <td>Mainland China</td>\n",
       "      <td>2020-01-22 17:00:00</td>\n",
       "      <td>6.0</td>\n",
       "      <td>0.0</td>\n",
       "      <td>0.0</td>\n",
       "    </tr>\n",
       "    <tr>\n",
       "      <th>4</th>\n",
       "      <td>2020-01-22</td>\n",
       "      <td>Fujian</td>\n",
       "      <td>Mainland China</td>\n",
       "      <td>2020-01-22 17:00:00</td>\n",
       "      <td>1.0</td>\n",
       "      <td>0.0</td>\n",
       "      <td>0.0</td>\n",
       "    </tr>\n",
       "    <tr>\n",
       "      <th>5</th>\n",
       "      <td>2020-01-22</td>\n",
       "      <td>Gansu</td>\n",
       "      <td>Mainland China</td>\n",
       "      <td>2020-01-22 17:00:00</td>\n",
       "      <td>0.0</td>\n",
       "      <td>0.0</td>\n",
       "      <td>0.0</td>\n",
       "    </tr>\n",
       "    <tr>\n",
       "      <th>...</th>\n",
       "      <td>...</td>\n",
       "      <td>...</td>\n",
       "      <td>...</td>\n",
       "      <td>...</td>\n",
       "      <td>...</td>\n",
       "      <td>...</td>\n",
       "      <td>...</td>\n",
       "    </tr>\n",
       "    <tr>\n",
       "      <th>306341</th>\n",
       "      <td>2021-05-29</td>\n",
       "      <td>Tibet</td>\n",
       "      <td>Mainland China</td>\n",
       "      <td>2021-05-30 04:20:55</td>\n",
       "      <td>1.0</td>\n",
       "      <td>0.0</td>\n",
       "      <td>1.0</td>\n",
       "    </tr>\n",
       "    <tr>\n",
       "      <th>306369</th>\n",
       "      <td>2021-05-29</td>\n",
       "      <td>Unknown</td>\n",
       "      <td>Mainland China</td>\n",
       "      <td>2021-05-30 04:20:55</td>\n",
       "      <td>0.0</td>\n",
       "      <td>0.0</td>\n",
       "      <td>10.0</td>\n",
       "    </tr>\n",
       "    <tr>\n",
       "      <th>306413</th>\n",
       "      <td>2021-05-29</td>\n",
       "      <td>Xinjiang</td>\n",
       "      <td>Mainland China</td>\n",
       "      <td>2021-05-30 04:20:55</td>\n",
       "      <td>980.0</td>\n",
       "      <td>3.0</td>\n",
       "      <td>977.0</td>\n",
       "    </tr>\n",
       "    <tr>\n",
       "      <th>306421</th>\n",
       "      <td>2021-05-29</td>\n",
       "      <td>Yunnan</td>\n",
       "      <td>Mainland China</td>\n",
       "      <td>2021-05-30 04:20:55</td>\n",
       "      <td>352.0</td>\n",
       "      <td>2.0</td>\n",
       "      <td>331.0</td>\n",
       "    </tr>\n",
       "    <tr>\n",
       "      <th>306427</th>\n",
       "      <td>2021-05-29</td>\n",
       "      <td>Zhejiang</td>\n",
       "      <td>Mainland China</td>\n",
       "      <td>2021-05-30 04:20:55</td>\n",
       "      <td>1364.0</td>\n",
       "      <td>1.0</td>\n",
       "      <td>1324.0</td>\n",
       "    </tr>\n",
       "  </tbody>\n",
       "</table>\n",
       "<p>15758 rows × 7 columns</p>\n",
       "</div>"
      ],
      "text/plain": [
       "       ObservationDate Province/State  Country/Region         Last Update  \\\n",
       "SNo                                                                         \n",
       "1           2020-01-22          Anhui  Mainland China 2020-01-22 17:00:00   \n",
       "2           2020-01-22        Beijing  Mainland China 2020-01-22 17:00:00   \n",
       "3           2020-01-22      Chongqing  Mainland China 2020-01-22 17:00:00   \n",
       "4           2020-01-22         Fujian  Mainland China 2020-01-22 17:00:00   \n",
       "5           2020-01-22          Gansu  Mainland China 2020-01-22 17:00:00   \n",
       "...                ...            ...             ...                 ...   \n",
       "306341      2021-05-29          Tibet  Mainland China 2021-05-30 04:20:55   \n",
       "306369      2021-05-29        Unknown  Mainland China 2021-05-30 04:20:55   \n",
       "306413      2021-05-29       Xinjiang  Mainland China 2021-05-30 04:20:55   \n",
       "306421      2021-05-29         Yunnan  Mainland China 2021-05-30 04:20:55   \n",
       "306427      2021-05-29       Zhejiang  Mainland China 2021-05-30 04:20:55   \n",
       "\n",
       "        Confirmed  Deaths  Recovered  \n",
       "SNo                                   \n",
       "1             1.0     0.0        0.0  \n",
       "2            14.0     0.0        0.0  \n",
       "3             6.0     0.0        0.0  \n",
       "4             1.0     0.0        0.0  \n",
       "5             0.0     0.0        0.0  \n",
       "...           ...     ...        ...  \n",
       "306341        1.0     0.0        1.0  \n",
       "306369        0.0     0.0       10.0  \n",
       "306413      980.0     3.0      977.0  \n",
       "306421      352.0     2.0      331.0  \n",
       "306427     1364.0     1.0     1324.0  \n",
       "\n",
       "[15758 rows x 7 columns]"
      ]
     },
     "execution_count": 268,
     "metadata": {},
     "output_type": "execute_result"
    }
   ],
   "source": [
    "coronaChina_half_Feb = df[\n",
    "    (df[\"Country/Region\"] == \"Mainland China\" ) | (df[\"Country/Region\"] == \"China\")\n",
    "    & (df[\"ObservationDate\"] >= \"2-1-2021\")\n",
    "    & (df[\"ObservationDate\"] <= \"2-15-2021\")\n",
    "]\n",
    "coronaChina_half_Feb"
   ]
  },
  {
   "attachments": {},
   "cell_type": "markdown",
   "metadata": {},
   "source": [
    "Statistics on the number of records by each Province of China in February 2021"
   ]
  },
  {
   "cell_type": "code",
   "execution_count": 281,
   "metadata": {},
   "outputs": [
    {
     "name": "stdout",
     "output_type": "stream",
     "text": [
      "Anhui             28\n",
      "Beijing           28\n",
      "Yunnan            28\n",
      "Xinjiang          28\n",
      "Unknown           28\n",
      "Tibet             28\n",
      "Tianjin           28\n",
      "Sichuan           28\n",
      "Shanxi            28\n",
      "Shanghai          28\n",
      "Shandong          28\n",
      "Shaanxi           28\n",
      "Qinghai           28\n",
      "Ningxia           28\n",
      "Liaoning          28\n",
      "Jilin             28\n",
      "Jiangxi           28\n",
      "Jiangsu           28\n",
      "Inner Mongolia    28\n",
      "Hunan             28\n",
      "Hubei             28\n",
      "Henan             28\n",
      "Heilongjiang      28\n",
      "Hebei             28\n",
      "Hainan            28\n",
      "Guizhou           28\n",
      "Guangxi           28\n",
      "Guangdong         28\n",
      "Gansu             28\n",
      "Fujian            28\n",
      "Chongqing         28\n",
      "Zhejiang          28\n",
      "Name: Province/State, dtype: int64\n"
     ]
    }
   ],
   "source": [
    "df_China_in_Feb = df[(df[\"Country/Region\"] == \"Mainland China\" )\n",
    "              & (df[\"ObservationDate\"].dt.month == 2)\n",
    "              & (df[\"ObservationDate\"].dt.year == 2021)]\n",
    "\n",
    "df_China_in_Feb_groupby_Province = df_China_in_Feb['Province/State']\n",
    "print(df_China_in_Feb_groupby_Province.value_counts())"
   ]
  },
  {
   "attachments": {},
   "cell_type": "markdown",
   "metadata": {},
   "source": [
    "Counting the number of infections by province in China in February 2021"
   ]
  },
  {
   "cell_type": "code",
   "execution_count": 270,
   "metadata": {},
   "outputs": [],
   "source": [
    "# using groupby() function on Province/State column\n",
    "ChinaProvince_inFeb2021 = df_China_in_Feb.groupby(['Province/State'])"
   ]
  },
  {
   "cell_type": "code",
   "execution_count": 271,
   "metadata": {},
   "outputs": [
    {
     "name": "stdout",
     "output_type": "stream",
     "text": [
      "               Minimum_Date Maximum_Date\n",
      "Province/State                          \n",
      "Anhui            2021-02-01   2021-02-28\n",
      "Beijing          2021-02-01   2021-02-28\n",
      "Chongqing        2021-02-01   2021-02-28\n",
      "Fujian           2021-02-01   2021-02-28\n",
      "Gansu            2021-02-01   2021-02-28\n",
      "Guangdong        2021-02-01   2021-02-28\n",
      "Guangxi          2021-02-01   2021-02-28\n",
      "Guizhou          2021-02-01   2021-02-28\n",
      "Hainan           2021-02-01   2021-02-28\n",
      "Hebei            2021-02-01   2021-02-28\n",
      "Heilongjiang     2021-02-01   2021-02-28\n",
      "Henan            2021-02-01   2021-02-28\n",
      "Hubei            2021-02-01   2021-02-28\n",
      "Hunan            2021-02-01   2021-02-28\n",
      "Inner Mongolia   2021-02-01   2021-02-28\n",
      "Jiangsu          2021-02-01   2021-02-28\n",
      "Jiangxi          2021-02-01   2021-02-28\n",
      "Jilin            2021-02-01   2021-02-28\n",
      "Liaoning         2021-02-01   2021-02-28\n",
      "Ningxia          2021-02-01   2021-02-28\n",
      "Qinghai          2021-02-01   2021-02-28\n",
      "Shaanxi          2021-02-01   2021-02-28\n",
      "Shandong         2021-02-01   2021-02-28\n",
      "Shanghai         2021-02-01   2021-02-28\n",
      "Shanxi           2021-02-01   2021-02-28\n",
      "Sichuan          2021-02-01   2021-02-28\n",
      "Tianjin          2021-02-01   2021-02-28\n",
      "Tibet            2021-02-01   2021-02-28\n",
      "Unknown          2021-02-01   2021-02-28\n",
      "Xinjiang         2021-02-01   2021-02-28\n",
      "Yunnan           2021-02-01   2021-02-28\n",
      "Zhejiang         2021-02-01   2021-02-28\n"
     ]
    }
   ],
   "source": [
    "# max_date = coronaChina[coronaChina[\"ObservationDate\"].max()]\n",
    "max_min_date = ChinaProvince_inFeb2021.agg(Minimum_Date=('ObservationDate', np.min), \n",
    "                           Maximum_Date=('ObservationDate', np.max))\n",
    "print(max_min_date)"
   ]
  },
  {
   "cell_type": "code",
   "execution_count": 278,
   "metadata": {},
   "outputs": [],
   "source": [
    "def get_confirm_by_state(df_China_in_Feb):\n",
    "    lastConfirmedInFeb = df_China_in_Feb[df_China_in_Feb[\"ObservationDate\"] == df_China_in_Feb[\"ObservationDate\"].max()][\"Confirmed\"].values[0]\n",
    "    firstConfirmedInFeb = df_China_in_Feb[df_China_in_Feb[\"ObservationDate\"] == df_China_in_Feb[\"ObservationDate\"].min()][\"Confirmed\"].values[0]\n",
    "    return lastConfirmedInFeb - firstConfirmedInFeb"
   ]
  },
  {
   "cell_type": "code",
   "execution_count": 279,
   "metadata": {},
   "outputs": [
    {
     "name": "stdout",
     "output_type": "stream",
     "text": [
      "    Province/State  confirmed_count\n",
      "0            Anhui              0.0\n",
      "1          Beijing             10.0\n",
      "2        Chongqing              0.0\n",
      "3           Fujian             10.0\n",
      "4            Gansu              0.0\n",
      "5        Guangdong             85.0\n",
      "6          Guangxi              0.0\n",
      "7          Guizhou              0.0\n",
      "8           Hainan              0.0\n",
      "9            Hebei              4.0\n",
      "10    Heilongjiang             19.0\n",
      "11           Henan              1.0\n",
      "12           Hubei              1.0\n",
      "13           Hunan              4.0\n",
      "14  Inner Mongolia              1.0\n",
      "15         Jiangsu              7.0\n",
      "16         Jiangxi              0.0\n",
      "17           Jilin             18.0\n",
      "18        Liaoning              4.0\n",
      "19         Ningxia              0.0\n",
      "20         Qinghai              0.0\n",
      "21         Shaanxi             11.0\n",
      "22        Shandong              3.0\n",
      "23        Shanghai             91.0\n",
      "24          Shanxi              1.0\n",
      "25         Sichuan             29.0\n",
      "26         Tianjin             12.0\n",
      "27           Tibet              0.0\n",
      "28         Unknown              0.0\n",
      "29        Xinjiang              0.0\n",
      "30          Yunnan              2.0\n",
      "31        Zhejiang              5.0\n"
     ]
    }
   ],
   "source": [
    "i = ChinaProvince_inFeb2021.apply(get_confirm_by_state)\n",
    "i = i.reset_index()\n",
    "i = i.rename(columns={0: \"confirmed_count\"})\n",
    "print(i)"
   ]
  },
  {
   "attachments": {},
   "cell_type": "markdown",
   "metadata": {},
   "source": [
    "Find China's death data from February 1, 2021 to February 15, 2021."
   ]
  },
  {
   "cell_type": "code",
   "execution_count": 289,
   "metadata": {},
   "outputs": [
    {
     "name": "stdout",
     "output_type": "stream",
     "text": [
      "China's death data from February 1, 2021 to February 15, 2021:        ObservationDate Province/State  Country/Region         Last Update  \\\n",
      "SNo                                                                         \n",
      "216354      2021-02-01          Anhui  Mainland China 2021-04-02 15:13:53   \n",
      "216388      2021-02-01        Beijing  Mainland China 2021-04-02 15:13:53   \n",
      "216438      2021-02-01      Chongqing  Mainland China 2021-04-02 15:13:53   \n",
      "216480      2021-02-01         Fujian  Mainland China 2021-04-02 15:13:53   \n",
      "216485      2021-02-01          Gansu  Mainland China 2021-04-02 15:13:53   \n",
      "...                ...            ...             ...                 ...   \n",
      "227546      2021-02-15          Tibet  Mainland China 2021-04-02 15:13:53   \n",
      "227574      2021-02-15        Unknown  Mainland China 2021-04-02 15:13:53   \n",
      "227618      2021-02-15       Xinjiang  Mainland China 2021-04-02 15:13:53   \n",
      "227626      2021-02-15         Yunnan  Mainland China 2021-04-02 15:13:53   \n",
      "227632      2021-02-15       Zhejiang  Mainland China 2021-04-02 15:13:53   \n",
      "\n",
      "        Confirmed  Deaths  Recovered  \n",
      "SNo                                   \n",
      "216354      994.0     6.0      987.0  \n",
      "216388     1039.0     9.0      977.0  \n",
      "216438      591.0     6.0      584.0  \n",
      "216480      541.0     1.0      525.0  \n",
      "216485      187.0     2.0      181.0  \n",
      "...           ...     ...        ...  \n",
      "227546        1.0     0.0        1.0  \n",
      "227574        0.0     0.0        0.0  \n",
      "227618      980.0     3.0      977.0  \n",
      "227626      231.0     2.0      228.0  \n",
      "227632     1320.0     1.0     1306.0  \n",
      "\n",
      "[480 rows x 7 columns] \n",
      "\n"
     ]
    }
   ],
   "source": [
    "# Filter the data to include only records between February 1 and February 15\n",
    "china_feb_1_to_15 = df_China_in_Feb[(df_China_in_Feb['ObservationDate'] >= '2021-02-01') & (df_China_in_Feb['ObservationDate'] <= '2021-02-15')]\n",
    "\n",
    "print(f\"China's death data from February 1, 2021 to February 15, 2021: {china_feb_1_to_15} \\n\")"
   ]
  },
  {
   "cell_type": "code",
   "execution_count": 290,
   "metadata": {},
   "outputs": [
    {
     "name": "stdout",
     "output_type": "stream",
     "text": [
      "Province/State\n",
      "Anhui                90.0\n",
      "Beijing             135.0\n",
      "Chongqing            90.0\n",
      "Fujian               15.0\n",
      "Gansu                30.0\n",
      "Guangdong           120.0\n",
      "Guangxi              30.0\n",
      "Guizhou              30.0\n",
      "Hainan               90.0\n",
      "Hebei               105.0\n",
      "Heilongjiang        195.0\n",
      "Henan               330.0\n",
      "Hubei             67680.0\n",
      "Hunan                60.0\n",
      "Inner Mongolia       15.0\n",
      "Jiangsu               0.0\n",
      "Jiangxi              15.0\n",
      "Jilin                45.0\n",
      "Liaoning             30.0\n",
      "Ningxia               0.0\n",
      "Qinghai               0.0\n",
      "Shaanxi              45.0\n",
      "Shandong            105.0\n",
      "Shanghai            105.0\n",
      "Shanxi                0.0\n",
      "Sichuan              45.0\n",
      "Tianjin              45.0\n",
      "Tibet                 0.0\n",
      "Unknown               0.0\n",
      "Xinjiang             45.0\n",
      "Yunnan               30.0\n",
      "Zhejiang             15.0\n",
      "Name: Deaths, dtype: float64\n"
     ]
    }
   ],
   "source": [
    "# Group the data by province/state and sum up the number of deaths\n",
    "China_province_deaths = china_feb_1_to_15.groupby('Province/State')['Deaths'].sum()\n",
    "print(China_province_deaths)"
   ]
  }
 ],
 "metadata": {
  "kernelspec": {
   "display_name": "base",
   "language": "python",
   "name": "python3"
  },
  "language_info": {
   "codemirror_mode": {
    "name": "ipython",
    "version": 3
   },
   "file_extension": ".py",
   "mimetype": "text/x-python",
   "name": "python",
   "nbconvert_exporter": "python",
   "pygments_lexer": "ipython3",
   "version": "3.10.9"
  },
  "orig_nbformat": 4
 },
 "nbformat": 4,
 "nbformat_minor": 2
}
