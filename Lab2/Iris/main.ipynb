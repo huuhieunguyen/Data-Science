{
 "cells": [
  {
   "cell_type": "code",
   "execution_count": 3,
   "metadata": {},
   "outputs": [],
   "source": [
    "# Import libraries\n",
    "import os\n",
    "import time\n",
    "import pandas as pd"
   ]
  },
  {
   "cell_type": "code",
   "execution_count": 10,
   "metadata": {},
   "outputs": [
    {
     "name": "stdout",
     "output_type": "stream",
     "text": [
      "Task finished!\n"
     ]
    }
   ],
   "source": [
    "# Insert the directory path in here\n",
    "path = 'iris.data'\n",
    "\n",
    "col_name = [\"sepal_length\",\"sepal_width\",\"petal_length\",\"petal_width\"]\n",
    "\n",
    "# Add column names into dataset \n",
    "df = pd.read_csv(path, names=col_name)\n",
    "\n",
    "print('Task finished!')"
   ]
  },
  {
   "cell_type": "code",
   "execution_count": 8,
   "metadata": {},
   "outputs": [
    {
     "name": "stdout",
     "output_type": "stream",
     "text": [
      "     sepal_length  sepal_width  petal_length     petal_width\n",
      "5.1           3.5          1.4           0.2     Iris-setosa\n",
      "4.9           3.0          1.4           0.2     Iris-setosa\n",
      "4.7           3.2          1.3           0.2     Iris-setosa\n",
      "4.6           3.1          1.5           0.2     Iris-setosa\n",
      "5.0           3.6          1.4           0.2     Iris-setosa\n",
      "..            ...          ...           ...             ...\n",
      "6.7           3.0          5.2           2.3  Iris-virginica\n",
      "6.3           2.5          5.0           1.9  Iris-virginica\n",
      "6.5           3.0          5.2           2.0  Iris-virginica\n",
      "6.2           3.4          5.4           2.3  Iris-virginica\n",
      "5.9           3.0          5.1           1.8  Iris-virginica\n",
      "\n",
      "[150 rows x 4 columns]\n"
     ]
    }
   ],
   "source": [
    "print(df)"
   ]
  },
  {
   "cell_type": "code",
   "execution_count": 9,
   "metadata": {},
   "outputs": [],
   "source": [
    "df.to_csv('iris.csv', index=False)"
   ]
  }
 ],
 "metadata": {
  "kernelspec": {
   "display_name": "base",
   "language": "python",
   "name": "python3"
  },
  "language_info": {
   "codemirror_mode": {
    "name": "ipython",
    "version": 3
   },
   "file_extension": ".py",
   "mimetype": "text/x-python",
   "name": "python",
   "nbconvert_exporter": "python",
   "pygments_lexer": "ipython3",
   "version": "3.10.9"
  },
  "orig_nbformat": 4
 },
 "nbformat": 4,
 "nbformat_minor": 2
}
