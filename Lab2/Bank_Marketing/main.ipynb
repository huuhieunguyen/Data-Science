{
 "cells": [
  {
   "cell_type": "code",
   "execution_count": 7,
   "metadata": {},
   "outputs": [],
   "source": [
    "# Import libraries\n",
    "import os\n",
    "import time\n",
    "import pandas as pd\n",
    "import glob"
   ]
  },
  {
   "cell_type": "code",
   "execution_count": 81,
   "metadata": {},
   "outputs": [
    {
     "name": "stdout",
     "output_type": "stream",
     "text": [
      "['bank.csv', 'bank-full.csv', 'bank-additional-full.csv', 'bank-additional.csv']\n",
      "['./Raw_Data/bank.csv', './Raw_Data/bank-full.csv', './Raw_Data/bank-additional-full.csv', './Raw_Data/bank-additional.csv']\n",
      "['./Raw_Data/bank-additional-full.csv', './Raw_Data/bank-additional.csv']\n"
     ]
    }
   ],
   "source": [
    "# Insert the directory path in here\n",
    "path = \"./Raw_Data\"\n",
    "\n",
    "# Create a list of dataframes to concat later\n",
    "lst_df_additional = []\n",
    "lst_df = []\n",
    "\n",
    "# Extracting all the contents in the directory corresponding to path\n",
    "l_files = os.listdir(path)\n",
    "print(l_files)\n",
    "\n",
    "# create full file path for each file in l_files:\n",
    "full_file_paths = glob.glob(os.path.join(path, \"*.csv\"))\n",
    "print(full_file_paths)\n",
    "\n",
    "# for additional bank\n",
    "file_paths_additional = os.path.join(path, \"*additional*.csv\")\n",
    "list_file_paths_additional = glob.glob(file_paths_additional)\n",
    "print(list_file_paths_additional)\n",
    "\n",
    "for file_additional in list_file_paths_additional:\n",
    "  df = pd.read_csv(file_additional, sep=\";\")\n",
    "  lst_df_additional.append(df)\n",
    "  # print(df.shape)\n",
    "\n",
    "final_df_additional = pd.concat(lst_df_additional)\n",
    "# print(final_df_additional.shape)"
   ]
  },
  {
   "cell_type": "code",
   "execution_count": 86,
   "metadata": {},
   "outputs": [],
   "source": [
    "bank_file_paths = list(set(full_file_paths) - set(list_file_paths_additional))\n",
    "# print(file_path)\n",
    "\n",
    "for file in bank_file_paths:\n",
    "  df = pd.read_csv(file, sep=\";\")\n",
    "  lst_df.append(df)\n",
    "\n",
    "final_df_bank = pd.concat(lst_df)"
   ]
  },
  {
   "cell_type": "code",
   "execution_count": 94,
   "metadata": {},
   "outputs": [
    {
     "name": "stdout",
     "output_type": "stream",
     "text": [
      "(41176, 21)\n",
      "(45211, 17)\n"
     ]
    }
   ],
   "source": [
    "df_additional_drop_dup = final_df_additional.drop_duplicates()\n",
    "df_bank_drop_dup = final_df_bank.drop_duplicates()\n",
    "\n",
    "print(df_additional_drop_dup.shape)\n",
    "print(df_bank_drop_dup.shape)"
   ]
  },
  {
   "cell_type": "code",
   "execution_count": 93,
   "metadata": {},
   "outputs": [],
   "source": [
    "df_additional_drop_dup.to_csv('bank_additional.csv', index=True)\n",
    "\n",
    "df_bank_drop_dup.to_csv('bank.csv', index=True)"
   ]
  }
 ],
 "metadata": {
  "kernelspec": {
   "display_name": "base",
   "language": "python",
   "name": "python3"
  },
  "language_info": {
   "codemirror_mode": {
    "name": "ipython",
    "version": 3
   },
   "file_extension": ".py",
   "mimetype": "text/x-python",
   "name": "python",
   "nbconvert_exporter": "python",
   "pygments_lexer": "ipython3",
   "version": "3.10.9"
  },
  "orig_nbformat": 4
 },
 "nbformat": 4,
 "nbformat_minor": 2
}
